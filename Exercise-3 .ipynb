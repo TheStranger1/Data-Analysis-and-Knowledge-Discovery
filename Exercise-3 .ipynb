{
 "cells": [
  {
   "cell_type": "code",
   "execution_count": 10,
   "metadata": {},
   "outputs": [
    {
     "data": {
      "text/html": [
       "<div>\n",
       "<style scoped>\n",
       "    .dataframe tbody tr th:only-of-type {\n",
       "        vertical-align: middle;\n",
       "    }\n",
       "\n",
       "    .dataframe tbody tr th {\n",
       "        vertical-align: top;\n",
       "    }\n",
       "\n",
       "    .dataframe thead th {\n",
       "        text-align: right;\n",
       "    }\n",
       "</style>\n",
       "<table border=\"1\" class=\"dataframe\">\n",
       "  <thead>\n",
       "    <tr style=\"text-align: right;\">\n",
       "      <th></th>\n",
       "      <th>MMSI</th>\n",
       "      <th>Speed (knots)</th>\n",
       "      <th>COG (degrees)</th>\n",
       "      <th>Destination</th>\n",
       "      <th>Ship type</th>\n",
       "      <th>Gross tonnage</th>\n",
       "      <th>Length (m)</th>\n",
       "      <th>Breadth (m)</th>\n",
       "    </tr>\n",
       "  </thead>\n",
       "  <tbody>\n",
       "    <tr>\n",
       "      <th>0</th>\n",
       "      <td>236039000</td>\n",
       "      <td>10.1</td>\n",
       "      <td>74.9</td>\n",
       "      <td>Hamina</td>\n",
       "      <td>Cargo</td>\n",
       "      <td>2280</td>\n",
       "      <td>82.6</td>\n",
       "      <td>12.3</td>\n",
       "    </tr>\n",
       "    <tr>\n",
       "      <th>1</th>\n",
       "      <td>440363000</td>\n",
       "      <td>9.9</td>\n",
       "      <td>74.6</td>\n",
       "      <td>Hamina</td>\n",
       "      <td>Cargo</td>\n",
       "      <td>8521</td>\n",
       "      <td>136.0</td>\n",
       "      <td>32.0</td>\n",
       "    </tr>\n",
       "    <tr>\n",
       "      <th>2</th>\n",
       "      <td>235009040</td>\n",
       "      <td>8.4</td>\n",
       "      <td>65.8</td>\n",
       "      <td>Hamina</td>\n",
       "      <td>Cargo</td>\n",
       "      <td>3978</td>\n",
       "      <td>1000.0</td>\n",
       "      <td>16.5</td>\n",
       "    </tr>\n",
       "    <tr>\n",
       "      <th>3</th>\n",
       "      <td>246591000</td>\n",
       "      <td>9.2</td>\n",
       "      <td>74.6</td>\n",
       "      <td>Hamina</td>\n",
       "      <td>Cargo</td>\n",
       "      <td>8620</td>\n",
       "      <td>137.1</td>\n",
       "      <td>19.1</td>\n",
       "    </tr>\n",
       "    <tr>\n",
       "      <th>4</th>\n",
       "      <td>305929000</td>\n",
       "      <td>9.6</td>\n",
       "      <td>73.2</td>\n",
       "      <td>Hamina</td>\n",
       "      <td>Cargo</td>\n",
       "      <td>1905</td>\n",
       "      <td>87.9</td>\n",
       "      <td>11.4</td>\n",
       "    </tr>\n",
       "  </tbody>\n",
       "</table>\n",
       "</div>"
      ],
      "text/plain": [
       "        MMSI  Speed (knots)  COG (degrees) Destination Ship type  \\\n",
       "0  236039000           10.1           74.9      Hamina     Cargo   \n",
       "1  440363000            9.9           74.6      Hamina     Cargo   \n",
       "2  235009040            8.4           65.8      Hamina     Cargo   \n",
       "3  246591000            9.2           74.6      Hamina     Cargo   \n",
       "4  305929000            9.6           73.2      Hamina     Cargo   \n",
       "\n",
       "   Gross tonnage  Length (m)  Breadth (m)  \n",
       "0           2280        82.6         12.3  \n",
       "1           8521       136.0         32.0  \n",
       "2           3978      1000.0         16.5  \n",
       "3           8620       137.1         19.1  \n",
       "4           1905        87.9         11.4  "
      ]
     },
     "execution_count": 10,
     "metadata": {},
     "output_type": "execute_result"
    }
   ],
   "source": [
    "# Task 1\n",
    "\n",
    "#importing module\n",
    "import pandas as pd\n",
    "\n",
    "#Loading data\n",
    "df= pd.read_csv(\"ship_data.csv\")\n",
    "\n",
    "#Checking data\n",
    "df.head()"
   ]
  },
  {
   "cell_type": "code",
   "execution_count": 2,
   "metadata": {},
   "outputs": [
    {
     "data": {
      "text/plain": [
       "array(['Cargo', 'Cargo', 'Cargo', 'Cargo', 'Cargo', 'Cargo', 'Cargo',\n",
       "       'Cargo', 'Cargo', 'Cargo', 'Cargo', 'Cargo', 'Cargo', 'Cargo',\n",
       "       'Cargo', 'Cargo', 'Cargo', 'Cargo', 'Cargo', 'Cargo', 'Cargo',\n",
       "       'Cargo', 'Cargo', 'Cargo', 'Cargo', 'Cargo', 'Cargo', 'Cargo',\n",
       "       'Cargo', 'Cargo', 'Cargo', 'Cargo', 'Cargo', 'Cargo', 'Cargo',\n",
       "       'Cargo', 'Cargo', 'Cargo', 'Cargo', 'Cargo', 'Cargo', 'Cargo',\n",
       "       'Cargo', 'Cargo', 'Cargo', 'Cargo', 'Cargo', 'Cargo', 'Cargo',\n",
       "       'Cargo', 'Tanker', 'Tanker', 'Tanker', 'Tanker', 'Tanker',\n",
       "       'Tanker', 'Tanker', 'Tanker', 'Tanker', 'Tanker', 'Tanker',\n",
       "       'Tanker', 'Tanker', 'Tanker', 'Tanker', 'Tanker', 'Tanker',\n",
       "       'Tanker', 'Tanker', 'Tanker', 'Tanker', 'Tanker', 'Tanker',\n",
       "       'Tanker', 'Tanker', 'Tanker', 'Tanker', 'Tanker', 'Tanker',\n",
       "       'Tanker', 'Tanker', 'Tanker', 'Tanker', 'Tanker', 'Tanker',\n",
       "       'Tanker', 'Tanker', 'Tanker', 'Tanker', 'Tanker', 'Tanker',\n",
       "       'Tanker', 'Tanker', 'Tanker', 'Tanker', 'Tanker', 'Tanker',\n",
       "       'Tanker', 'Tug', 'Tug', 'Tug', 'Tug', 'Tug', 'Tug', 'Tug', 'Tug',\n",
       "       'Tug'], dtype=object)"
      ]
     },
     "execution_count": 2,
     "metadata": {},
     "output_type": "execute_result"
    }
   ],
   "source": [
    "df['Ship type'].values"
   ]
  },
  {
   "cell_type": "code",
   "execution_count": 11,
   "metadata": {},
   "outputs": [
    {
     "data": {
      "image/png": "[encoded data removed]",
      "text/plain": [
       "<Figure size 360x360 with 1 Axes>"
      ]
     },
     "metadata": {},
     "output_type": "display_data"
    }
   ],
   "source": [
    "# Plotting a scatter plot using ship length and gross tonnage, using a different color for each ship type.\n",
    "\n",
    "import matplotlib.pyplot as plt\n",
    "import seaborn as sns\n",
    "sns.lmplot( x=\"Length (m)\", y=\"Gross tonnage\", data=df, fit_reg=False, hue='Ship type', legend=False, scatter=True)\n",
    "plt.legend(loc='upper right')\n",
    "\n",
    "plt.show()\n",
    " "
   ]
  },
  {
   "cell_type": "code",
   "execution_count": 12,
   "metadata": {},
   "outputs": [
    {
     "name": "stdout",
     "output_type": "stream",
     "text": [
      "     Breadth (m)  COG (degrees)  Destination  Gross tonnage  Length (m)  \\\n",
      "0          False          False         True          False       False   \n",
      "1          False          False         True          False       False   \n",
      "2          False          False         True          False        True   \n",
      "3          False          False         True          False       False   \n",
      "4          False          False         True          False       False   \n",
      "5          False          False         True          False       False   \n",
      "6          False          False         True          False       False   \n",
      "7          False          False         True          False       False   \n",
      "8          False          False         True          False       False   \n",
      "9          False          False         True          False       False   \n",
      "10         False          False         True          False       False   \n",
      "11         False          False         True          False       False   \n",
      "12         False          False         True          False       False   \n",
      "13         False          False         True          False       False   \n",
      "14         False          False         True          False       False   \n",
      "15         False          False         True          False       False   \n",
      "16         False          False         True          False       False   \n",
      "17         False          False         True          False       False   \n",
      "18         False          False         True          False       False   \n",
      "19         False          False         True          False       False   \n",
      "20         False          False         True          False       False   \n",
      "21         False           True         True          False       False   \n",
      "22         False          False         True          False       False   \n",
      "23         False          False         True          False       False   \n",
      "24         False          False         True          False       False   \n",
      "25         False          False         True          False       False   \n",
      "26         False           True         True          False       False   \n",
      "27         False          False         True          False       False   \n",
      "28         False          False         True          False       False   \n",
      "29         False          False         True          False       False   \n",
      "..           ...            ...          ...            ...         ...   \n",
      "77         False           True         True          False       False   \n",
      "78         False          False         True          False       False   \n",
      "79         False          False         True          False       False   \n",
      "80          True          False         True           True        True   \n",
      "81         False          False         True          False       False   \n",
      "82          True          False         True           True        True   \n",
      "83          True          False         True           True        True   \n",
      "84         False          False         True          False       False   \n",
      "85         False           True         True          False       False   \n",
      "86         False          False         True          False       False   \n",
      "87         False          False         True          False       False   \n",
      "88         False          False         True          False       False   \n",
      "89         False          False         True          False       False   \n",
      "90          True          False         True           True        True   \n",
      "91          True          False         True           True        True   \n",
      "92         False          False         True           True       False   \n",
      "93          True          False         True           True        True   \n",
      "94         False          False         True           True       False   \n",
      "95         False           True         True           True       False   \n",
      "96          True          False         True           True        True   \n",
      "97          True          False         True           True        True   \n",
      "98         False           True         True          False       False   \n",
      "99         False           True         True          False       False   \n",
      "100        False           True         True          False       False   \n",
      "101        False          False         True          False       False   \n",
      "102        False           True         True          False       False   \n",
      "103        False          False         True          False       False   \n",
      "104        False          False         True          False       False   \n",
      "105        False          False         True          False       False   \n",
      "106        False          False         True          False       False   \n",
      "\n",
      "      MMSI  Ship type  Speed (knots)  \n",
      "0    False       True          False  \n",
      "1     True       True          False  \n",
      "2    False       True          False  \n",
      "3    False       True          False  \n",
      "4    False       True          False  \n",
      "5     True       True          False  \n",
      "6    False       True          False  \n",
      "7    False       True          False  \n",
      "8    False       True          False  \n",
      "9    False       True          False  \n",
      "10   False       True          False  \n",
      "11   False       True          False  \n",
      "12   False       True          False  \n",
      "13   False       True          False  \n",
      "14   False       True          False  \n",
      "15   False       True          False  \n",
      "16   False       True          False  \n",
      "17   False       True          False  \n",
      "18   False       True          False  \n",
      "19   False       True          False  \n",
      "20   False       True          False  \n",
      "21   False       True          False  \n",
      "22   False       True          False  \n",
      "23   False       True          False  \n",
      "24   False       True          False  \n",
      "25   False       True          False  \n",
      "26   False       True          False  \n",
      "27   False       True          False  \n",
      "28   False       True          False  \n",
      "29   False       True          False  \n",
      "..     ...        ...            ...  \n",
      "77   False       True          False  \n",
      "78    True       True          False  \n",
      "79    True       True          False  \n",
      "80    True       True          False  \n",
      "81   False       True          False  \n",
      "82    True       True          False  \n",
      "83    True       True          False  \n",
      "84   False       True          False  \n",
      "85   False       True          False  \n",
      "86    True       True          False  \n",
      "87   False       True          False  \n",
      "88   False       True          False  \n",
      "89   False       True          False  \n",
      "90   False       True          False  \n",
      "91    True       True          False  \n",
      "92   False       True          False  \n",
      "93   False       True          False  \n",
      "94   False       True          False  \n",
      "95    True       True          False  \n",
      "96    True       True          False  \n",
      "97    True       True          False  \n",
      "98   False       True          False  \n",
      "99   False       True          False  \n",
      "100  False       True          False  \n",
      "101  False       True          False  \n",
      "102  False       True          False  \n",
      "103  False       True          False  \n",
      "104  False       True          False  \n",
      "105  False       True          False  \n",
      "106  False       True          False  \n",
      "\n",
      "[107 rows x 8 columns]\n"
     ]
    }
   ],
   "source": [
    "# Are there any evident outliers? If so, delete the outliers \n",
    "# (or alternatively you can try to find the correct value from marinetraffic.com). \n",
    "# Do you need to use some transformation? If so, make the transformation.\n",
    "\n",
    "# Finding outliers\n",
    "Q1 = df.quantile(0.25)\n",
    "Q3 = df.quantile(0.75)\n",
    "IQR = Q3 - Q1\n",
    "\n",
    "print(df < (Q1 - 1.5 * IQR)) |(df > (Q3 + 1.5 * IQR))\n"
   ]
  },
  {
   "cell_type": "code",
   "execution_count": 13,
   "metadata": {},
   "outputs": [],
   "source": [
    "# Removing outliers\n",
    "\n",
    "df_removed_outlier=df.drop([2,48,60,80,82,83,90,91,93,96,97], axis=0)\n"
   ]
  },
  {
   "cell_type": "code",
   "execution_count": 33,
   "metadata": {},
   "outputs": [],
   "source": [
    "import numpy as np\n",
    "df_encoded = pd.concat([df_removed_outlier,pd.get_dummies(df_removed_outlier['Destination'], dummy_na=False)],axis=1).drop(['Destination'],axis=1)\n",
    "X_c= np.array(df_encoded.loc[:,'Hamina':])\n",
    "\n",
    "X_c=pd.DataFrame(X_c.astype('float64'))\n"
   ]
  },
  {
   "cell_type": "code",
   "execution_count": 40,
   "metadata": {},
   "outputs": [],
   "source": [
    "# The numerical variables have quite different ranges so it is good to make a Zscore standardization. \n",
    "# Perform it for speed, length, breadth and gross tonnage.\n",
    "\n",
    "#Importing necessary module\n",
    "from sklearn import preprocessing\n",
    "x = df_encoded[['Speed (knots)','Gross tonnage','Length (m)','Breadth (m)']].values.astype(float)\n",
    "\n",
    "# Create a minimum and maximum processor object\n",
    "min_max_scaler = preprocessing.MinMaxScaler()\n",
    "\n",
    "# Create an object to transform the data to fit minmax processor\n",
    "x_scaled = min_max_scaler.fit_transform(x)\n",
    "\n",
    "# Run the normalizer on the dataframe\n",
    "df_normalized = pd.DataFrame(x_scaled)\n",
    "X=np.array(x_scaled)\n",
    "X=np.hstack([X, X_c])\n",
    "\n",
    "\n"
   ]
  },
  {
   "cell_type": "code",
   "execution_count": 45,
   "metadata": {},
   "outputs": [
    {
     "name": "stdout",
     "output_type": "stream",
     "text": [
      "[0.8275862068965517, 0.7241379310344828, 0.8620689655172413, 0.7586206896551724, 0.6896551724137931, 0.8620689655172413, 0.8275862068965517, 0.8275862068965517, 0.7931034482758621, 0.8275862068965517, 0.896551724137931, 0.8620689655172413, 0.896551724137931, 0.7931034482758621, 0.7931034482758621, 0.7931034482758621, 0.7931034482758621, 0.7241379310344828, 0.8620689655172413, 0.9310344827586207, 0.8620689655172413, 0.7241379310344828, 0.8620689655172413, 0.7586206896551724, 0.896551724137931, 0.7931034482758621, 0.8275862068965517, 0.8275862068965517, 0.6896551724137931, 0.8275862068965517, 0.7931034482758621, 0.9655172413793104, 0.8620689655172413, 0.7586206896551724, 0.8275862068965517, 0.896551724137931, 0.7931034482758621, 0.6896551724137931, 0.7586206896551724, 0.8620689655172413, 0.7931034482758621, 0.7931034482758621, 0.8620689655172413, 0.7586206896551724, 0.8275862068965517, 0.8275862068965517, 0.7931034482758621, 0.8275862068965517, 0.9310344827586207, 0.6206896551724138, 0.7586206896551724, 0.7586206896551724, 0.8275862068965517, 0.7931034482758621, 0.7241379310344828, 0.7931034482758621, 0.7586206896551724, 0.7586206896551724, 0.6551724137931034, 0.7931034482758621, 0.7931034482758621, 0.7931034482758621, 0.8275862068965517, 0.8620689655172413, 0.8620689655172413, 0.7931034482758621, 0.7931034482758621, 0.8275862068965517, 0.7931034482758621, 0.8620689655172413, 0.8275862068965517, 0.7586206896551724, 0.7586206896551724, 0.7241379310344828, 0.8275862068965517, 0.7931034482758621, 0.7241379310344828, 0.8275862068965517, 0.8275862068965517, 0.8620689655172413, 0.8620689655172413, 0.9310344827586207, 0.8275862068965517, 0.896551724137931, 0.7586206896551724, 0.8620689655172413, 0.8275862068965517, 0.8275862068965517, 0.8275862068965517, 0.8620689655172413, 0.896551724137931, 0.7241379310344828, 0.8620689655172413, 0.8620689655172413, 0.8275862068965517, 0.8275862068965517, 0.8275862068965517, 0.8620689655172413, 0.7586206896551724, 0.7241379310344828, 0.8620689655172413, 0.7241379310344828, 0.6206896551724138, 0.896551724137931, 0.8620689655172413, 0.8275862068965517, 0.8275862068965517, 0.7931034482758621, 0.8275862068965517, 0.7586206896551724, 0.7931034482758621, 0.7586206896551724, 0.8275862068965517, 0.7241379310344828, 0.7241379310344828, 0.8275862068965517, 0.7586206896551724, 0.8620689655172413, 0.9310344827586207, 0.9310344827586207, 0.7931034482758621, 0.8275862068965517, 0.8275862068965517, 0.8620689655172413, 0.8275862068965517, 0.6896551724137931, 0.8275862068965517, 0.7586206896551724, 0.7586206896551724, 0.7931034482758621, 0.8275862068965517, 0.8275862068965517, 0.7931034482758621, 0.896551724137931, 0.8620689655172413, 0.6551724137931034, 0.7586206896551724, 0.896551724137931, 0.7586206896551724, 0.8620689655172413, 0.7931034482758621, 0.896551724137931, 0.7931034482758621, 0.7931034482758621, 0.7931034482758621, 0.8275862068965517, 0.7931034482758621, 0.8275862068965517, 0.896551724137931, 0.7931034482758621, 0.7931034482758621, 0.8275862068965517, 0.8620689655172413, 0.7931034482758621, 0.7931034482758621, 0.8620689655172413, 0.7931034482758621, 0.7586206896551724, 0.896551724137931, 0.8620689655172413, 0.7241379310344828, 0.7931034482758621, 0.7931034482758621, 0.6896551724137931, 0.896551724137931, 0.896551724137931, 0.8620689655172413, 0.896551724137931, 0.7931034482758621, 0.7931034482758621, 0.8275862068965517, 0.8275862068965517, 0.7586206896551724, 0.9655172413793104, 0.9310344827586207, 0.7931034482758621, 0.9655172413793104, 0.8275862068965517, 0.5862068965517241, 0.8275862068965517, 0.8275862068965517, 0.8620689655172413, 0.7931034482758621, 0.8620689655172413, 0.8620689655172413, 0.9310344827586207, 0.896551724137931, 0.7586206896551724, 0.7586206896551724, 0.7931034482758621, 0.8275862068965517, 0.7586206896551724, 0.7931034482758621, 0.7586206896551724, 0.9310344827586207, 0.7586206896551724, 0.896551724137931, 0.7931034482758621, 0.8275862068965517, 0.7931034482758621, 0.7931034482758621, 0.8620689655172413, 0.8275862068965517, 0.8275862068965517, 0.896551724137931, 0.7241379310344828, 0.6896551724137931, 0.8275862068965517, 0.9655172413793104, 0.8275862068965517, 0.8620689655172413, 0.7241379310344828, 0.8275862068965517, 0.6896551724137931, 0.8275862068965517, 0.7241379310344828, 0.7931034482758621, 0.7241379310344828, 0.7586206896551724, 0.7586206896551724, 0.6206896551724138, 0.8275862068965517, 0.7931034482758621, 0.7241379310344828, 0.7931034482758621, 0.7931034482758621, 0.7931034482758621, 0.8275862068965517, 0.8275862068965517, 0.6896551724137931, 0.896551724137931, 0.9655172413793104, 0.8275862068965517, 0.6896551724137931, 0.8620689655172413, 0.6896551724137931, 0.7586206896551724, 0.7931034482758621, 0.8275862068965517, 0.896551724137931, 0.6896551724137931, 0.7931034482758621, 0.6896551724137931, 0.896551724137931, 0.7586206896551724, 0.7241379310344828, 0.896551724137931, 0.6551724137931034, 0.8620689655172413, 0.8275862068965517, 0.8620689655172413, 0.896551724137931, 0.8275862068965517, 0.7586206896551724, 0.9655172413793104, 0.7241379310344828, 0.7586206896551724, 0.8275862068965517, 0.8275862068965517, 0.7241379310344828, 0.7931034482758621, 0.8620689655172413, 0.7241379310344828, 0.896551724137931, 0.6896551724137931, 0.896551724137931, 0.8620689655172413, 0.896551724137931, 0.7931034482758621, 0.6551724137931034, 0.7241379310344828, 0.7586206896551724, 0.6896551724137931, 0.7586206896551724, 0.7586206896551724, 0.8620689655172413, 0.8620689655172413, 0.7586206896551724, 0.896551724137931, 0.8275862068965517, 0.7931034482758621, 0.7931034482758621, 0.896551724137931, 0.8275862068965517, 0.8620689655172413, 0.896551724137931, 0.7931034482758621, 0.8620689655172413, 0.8620689655172413, 0.7586206896551724, 0.8275862068965517, 0.7586206896551724, 0.7586206896551724, 0.7241379310344828, 0.8620689655172413, 0.7931034482758621, 0.7931034482758621, 0.7586206896551724, 0.896551724137931, 0.8275862068965517, 0.8275862068965517, 0.7586206896551724, 0.6896551724137931, 0.8275862068965517, 0.8275862068965517, 0.6551724137931034, 0.7586206896551724, 0.7586206896551724, 0.6896551724137931, 0.8275862068965517, 0.8620689655172413, 0.8620689655172413, 0.8620689655172413, 0.8275862068965517, 0.7586206896551724, 0.896551724137931, 0.8275862068965517, 0.7586206896551724, 0.8275862068965517, 0.6896551724137931, 0.8620689655172413, 0.8275862068965517, 0.9310344827586207, 0.7931034482758621, 0.8620689655172413, 0.8620689655172413, 0.7931034482758621, 0.8275862068965517, 0.7586206896551724, 0.9310344827586207, 0.7241379310344828, 0.8275862068965517, 0.7931034482758621, 0.8620689655172413, 0.8275862068965517, 0.7586206896551724, 0.7931034482758621, 0.7586206896551724, 0.7931034482758621, 0.8620689655172413, 0.7931034482758621, 0.7931034482758621, 0.9310344827586207, 0.7931034482758621, 0.8275862068965517, 0.7241379310344828, 0.9310344827586207, 0.896551724137931, 0.7931034482758621, 0.7931034482758621, 0.7931034482758621, 0.6896551724137931, 0.896551724137931, 0.8620689655172413, 0.7241379310344828, 0.7586206896551724, 1.0, 0.9310344827586207, 0.7586206896551724, 0.7931034482758621, 0.8275862068965517, 0.896551724137931, 0.7586206896551724, 0.7241379310344828, 0.8620689655172413, 0.7586206896551724, 0.8275862068965517, 0.7241379310344828, 0.7241379310344828, 0.7931034482758621, 0.7931034482758621, 0.7586206896551724, 0.9655172413793104, 0.7241379310344828, 0.8275862068965517, 0.7931034482758621, 0.9310344827586207, 0.896551724137931, 0.8620689655172413, 0.8275862068965517, 0.7931034482758621, 0.7586206896551724, 0.7931034482758621, 0.8275862068965517, 0.7586206896551724, 0.8620689655172413, 0.5862068965517241, 0.8275862068965517, 0.7931034482758621, 0.896551724137931, 0.7931034482758621, 0.8620689655172413, 0.6896551724137931, 0.8275862068965517, 0.8620689655172413, 0.896551724137931, 0.9310344827586207, 0.6551724137931034, 0.8275862068965517, 0.8620689655172413, 0.8620689655172413, 0.8275862068965517, 0.7931034482758621, 0.7931034482758621, 0.896551724137931, 0.896551724137931, 0.7241379310344828, 0.6896551724137931, 0.8275862068965517, 0.7931034482758621, 0.8275862068965517, 0.6896551724137931, 0.8620689655172413, 0.7931034482758621, 0.7241379310344828, 0.7586206896551724, 0.8620689655172413, 0.9310344827586207, 0.7586206896551724, 0.8620689655172413, 0.8275862068965517, 0.8275862068965517, 0.7931034482758621, 0.8275862068965517, 0.6551724137931034, 0.8275862068965517, 0.8275862068965517, 0.7586206896551724, 0.8275862068965517, 0.8275862068965517, 0.7931034482758621, 0.8275862068965517, 0.8620689655172413, 0.896551724137931, 0.7586206896551724, 0.7931034482758621, 0.9310344827586207, 0.8275862068965517, 0.6551724137931034, 0.8275862068965517, 0.896551724137931, 0.7586206896551724, 0.7931034482758621, 0.7931034482758621, 0.6896551724137931, 0.7586206896551724, 0.7931034482758621, 0.7931034482758621, 0.7241379310344828, 0.8275862068965517, 0.8620689655172413, 0.8620689655172413, 0.8275862068965517, 0.896551724137931, 0.8275862068965517, 0.7241379310344828, 0.7241379310344828, 0.7586206896551724, 0.7586206896551724, 0.896551724137931, 0.8275862068965517, 0.7241379310344828, 0.8275862068965517, 0.7586206896551724, 0.7586206896551724, 0.6896551724137931, 0.8620689655172413, 0.8275862068965517, 0.8620689655172413, 0.8620689655172413, 0.7931034482758621, 0.896551724137931, 0.8275862068965517, 0.7931034482758621, 0.7931034482758621, 0.7931034482758621, 0.7931034482758621, 0.8620689655172413, 0.8275862068965517, 0.8275862068965517, 0.5862068965517241, 0.9310344827586207, 0.8620689655172413, 0.896551724137931, 0.7241379310344828, 0.8275862068965517, 0.7931034482758621, 0.8275862068965517, 0.8275862068965517, 0.6206896551724138, 0.8275862068965517, 0.7586206896551724, 0.8620689655172413, 0.8275862068965517, 0.7241379310344828, 0.8275862068965517, 0.8275862068965517, 0.7931034482758621, 0.7931034482758621, 0.8275862068965517, 0.7931034482758621, 0.6896551724137931, 0.896551724137931, 0.7586206896551724, 0.8275862068965517, 0.7241379310344828, 0.8275862068965517, 0.7586206896551724, 0.7586206896551724, 0.7931034482758621, 0.8620689655172413, 0.9310344827586207, 0.896551724137931, 0.7931034482758621, 0.6896551724137931, 0.6896551724137931, 0.8620689655172413, 0.8620689655172413, 0.896551724137931, 0.7241379310344828, 0.8620689655172413, 0.8620689655172413, 0.7241379310344828, 0.8620689655172413, 0.7241379310344828, 0.7241379310344828, 0.9310344827586207, 0.9310344827586207, 0.8275862068965517, 0.7241379310344828, 0.8620689655172413, 0.8620689655172413, 0.7931034482758621, 0.896551724137931, 0.8620689655172413, 0.6896551724137931, 0.7931034482758621, 0.8620689655172413, 0.8275862068965517, 0.8275862068965517, 0.7241379310344828, 0.7931034482758621, 0.7241379310344828, 0.8275862068965517, 0.7241379310344828, 0.8275862068965517, 0.7586206896551724, 0.7586206896551724, 0.7241379310344828, 0.9310344827586207, 0.8620689655172413, 0.7586206896551724, 0.6551724137931034, 0.8620689655172413, 0.9310344827586207, 0.7586206896551724, 0.8275862068965517, 0.9310344827586207, 0.8275862068965517, 0.9310344827586207, 0.7931034482758621, 0.7586206896551724, 0.6896551724137931, 0.7586206896551724, 0.8620689655172413, 0.8275862068965517, 0.7241379310344828, 0.896551724137931, 0.8275862068965517, 0.896551724137931, 0.8275862068965517, 0.8620689655172413, 0.7931034482758621, 0.8275862068965517, 0.896551724137931, 0.896551724137931, 0.7241379310344828, 0.7586206896551724, 0.8620689655172413, 0.8275862068965517, 0.896551724137931, 0.7241379310344828, 0.9310344827586207, 0.7586206896551724, 0.7931034482758621, 0.7241379310344828, 0.8620689655172413, 0.7586206896551724, 0.896551724137931, 0.7241379310344828, 0.8275862068965517, 0.7241379310344828, 0.8620689655172413, 0.6896551724137931, 0.7241379310344828, 0.8275862068965517, 0.7586206896551724, 0.9310344827586207, 0.896551724137931, 0.7931034482758621, 0.7586206896551724, 0.8275862068965517, 0.8275862068965517, 0.8275862068965517, 0.8275862068965517, 0.7586206896551724, 0.896551724137931, 0.8620689655172413, 0.8620689655172413, 0.7931034482758621, 0.896551724137931, 0.7241379310344828, 0.8620689655172413, 0.7586206896551724, 0.8620689655172413, 0.896551724137931, 0.896551724137931, 0.7586206896551724, 0.8275862068965517, 0.896551724137931, 0.8620689655172413, 0.7586206896551724, 0.896551724137931, 0.8275862068965517, 0.896551724137931, 0.7931034482758621, 0.896551724137931, 0.896551724137931, 0.8275862068965517, 0.8620689655172413, 0.8275862068965517, 0.8275862068965517, 0.6206896551724138, 0.7241379310344828, 0.9310344827586207, 0.7586206896551724, 0.896551724137931, 0.896551724137931, 0.8620689655172413, 0.6551724137931034, 0.896551724137931, 0.8275862068965517, 0.7931034482758621, 0.8275862068965517, 0.7931034482758621, 0.7586206896551724, 0.8620689655172413, 0.8275862068965517, 0.896551724137931, 0.8275862068965517, 0.7931034482758621, 0.9310344827586207, 0.8275862068965517, 0.7586206896551724, 0.8620689655172413, 0.7241379310344828, 0.7931034482758621, 0.8275862068965517, 0.8275862068965517, 0.7586206896551724, 0.7931034482758621, 0.8275862068965517, 0.8620689655172413, 0.7931034482758621, 0.9310344827586207, 0.8620689655172413, 0.8275862068965517, 0.6551724137931034, 0.7931034482758621, 0.8275862068965517, 0.7241379310344828, 0.9310344827586207, 0.7931034482758621, 0.896551724137931, 0.8620689655172413, 0.8620689655172413, 0.7241379310344828, 0.8275862068965517, 0.7931034482758621, 0.7241379310344828, 0.8620689655172413, 0.8620689655172413, 0.8620689655172413, 0.7931034482758621, 0.7931034482758621, 0.896551724137931, 0.7931034482758621, 0.6896551724137931, 0.7931034482758621, 0.7931034482758621, 0.7931034482758621, 0.9310344827586207, 0.8275862068965517, 0.7241379310344828, 0.7586206896551724, 0.7931034482758621, 0.8275862068965517, 0.7931034482758621, 0.7931034482758621, 0.8275862068965517, 0.8620689655172413, 0.8620689655172413, 0.8275862068965517, 0.8620689655172413, 0.8275862068965517, 0.8620689655172413, 0.8275862068965517, 0.8275862068965517, 0.7931034482758621, 0.7586206896551724, 0.7241379310344828, 0.8275862068965517, 0.7931034482758621, 0.8620689655172413, 0.7931034482758621, 0.896551724137931, 0.7586206896551724, 0.8275862068965517, 0.8275862068965517, 0.7931034482758621, 0.7241379310344828, 0.7931034482758621, 0.8275862068965517, 0.8275862068965517, 0.8620689655172413, 0.7931034482758621, 0.8620689655172413, 0.8275862068965517, 0.7931034482758621, 0.7241379310344828, 0.7931034482758621, 0.7586206896551724, 0.7241379310344828, 0.6551724137931034, 0.7586206896551724, 0.6551724137931034, 0.7931034482758621, 0.8275862068965517, 0.8620689655172413, 0.9310344827586207, 0.8275862068965517, 0.8620689655172413, 0.8620689655172413, 0.896551724137931, 0.9310344827586207, 0.6896551724137931, 0.7241379310344828, 0.6551724137931034, 0.8620689655172413, 0.7241379310344828, 0.8275862068965517, 0.6896551724137931, 0.7241379310344828, 0.9310344827586207, 0.8620689655172413, 0.8275862068965517, 0.8275862068965517, 0.7241379310344828, 0.7931034482758621, 0.5517241379310345, 0.8620689655172413, 0.896551724137931, 0.7931034482758621, 0.9310344827586207, 0.8620689655172413, 0.8275862068965517, 0.7586206896551724, 0.7931034482758621, 0.7241379310344828, 0.8620689655172413, 0.8275862068965517, 0.8275862068965517, 0.8275862068965517, 0.8620689655172413, 0.7586206896551724, 0.7931034482758621, 0.8275862068965517, 0.9655172413793104, 0.8275862068965517, 0.7241379310344828, 0.7931034482758621, 0.7931034482758621, 0.896551724137931, 0.8620689655172413, 0.7931034482758621, 0.8275862068965517, 0.8620689655172413, 0.8275862068965517, 0.7931034482758621, 0.7931034482758621, 0.7586206896551724, 0.6896551724137931, 0.6896551724137931, 0.8275862068965517, 0.8620689655172413, 0.7586206896551724, 0.6896551724137931, 0.896551724137931, 0.896551724137931, 0.8620689655172413, 0.8620689655172413, 0.8275862068965517, 0.6896551724137931, 0.8275862068965517, 0.8275862068965517, 0.8620689655172413, 0.7241379310344828, 0.896551724137931, 0.7586206896551724, 0.8275862068965517, 0.896551724137931, 0.8275862068965517, 0.7586206896551724, 0.7931034482758621, 0.7931034482758621, 0.7931034482758621, 0.8620689655172413, 0.7241379310344828, 0.8275862068965517, 0.9310344827586207, 0.8275862068965517, 0.7586206896551724, 0.7931034482758621, 0.9655172413793104, 0.8275862068965517, 0.7586206896551724, 0.896551724137931, 0.8275862068965517, 0.7586206896551724, 0.8620689655172413, 0.8275862068965517, 0.8620689655172413, 0.896551724137931, 0.7931034482758621, 0.8620689655172413, 0.8275862068965517, 0.6896551724137931, 0.8620689655172413, 0.7931034482758621, 0.8275862068965517, 0.7586206896551724, 0.8620689655172413, 0.8620689655172413, 0.8275862068965517, 0.7931034482758621, 0.8275862068965517, 0.7931034482758621, 0.7586206896551724, 0.7586206896551724, 0.8620689655172413, 0.8275862068965517, 0.9310344827586207, 0.8620689655172413, 0.7586206896551724, 0.896551724137931, 0.7931034482758621, 0.7241379310344828, 0.896551724137931, 0.896551724137931, 0.8620689655172413, 0.7931034482758621, 0.896551724137931, 0.8275862068965517, 0.896551724137931, 0.7931034482758621, 0.7241379310344828, 0.7931034482758621, 0.7586206896551724, 0.7241379310344828, 0.8275862068965517, 0.7241379310344828, 0.6896551724137931, 0.7241379310344828, 0.8620689655172413, 0.8620689655172413, 0.8275862068965517, 0.7586206896551724, 0.8275862068965517, 0.8620689655172413, 0.896551724137931, 0.7931034482758621, 0.8275862068965517, 0.8275862068965517, 0.7586206896551724, 0.8275862068965517, 0.896551724137931, 0.8275862068965517, 0.7586206896551724, 0.7241379310344828, 0.8275862068965517, 0.8620689655172413, 0.8275862068965517, 0.896551724137931, 0.7586206896551724, 0.7586206896551724, 0.7586206896551724, 0.7586206896551724, 0.7586206896551724, 0.8620689655172413, 0.8620689655172413, 0.896551724137931, 0.8275862068965517, 0.896551724137931, 0.896551724137931, 0.896551724137931, 0.8275862068965517, 0.7586206896551724, 0.9310344827586207, 0.7931034482758621, 0.7241379310344828, 0.8275862068965517, 0.7586206896551724, 0.7931034482758621, 0.9310344827586207, 0.8620689655172413, 0.7931034482758621, 0.8275862068965517, 0.7586206896551724, 0.896551724137931, 0.9655172413793104, 0.7241379310344828, 0.7586206896551724, 0.7241379310344828, 0.6551724137931034, 0.7931034482758621, 0.8275862068965517, 0.7931034482758621, 0.7931034482758621, 0.8275862068965517, 0.8275862068965517, 0.6896551724137931, 0.8620689655172413, 0.896551724137931, 0.896551724137931, 0.8620689655172413, 0.8275862068965517, 0.8620689655172413, 0.896551724137931, 0.7931034482758621, 0.8275862068965517, 0.8620689655172413, 0.7931034482758621, 0.896551724137931, 0.7586206896551724, 0.8275862068965517, 0.8620689655172413, 0.7931034482758621, 0.7586206896551724, 0.8275862068965517, 0.6896551724137931, 0.7931034482758621, 0.6896551724137931, 0.8620689655172413, 1.0, 0.8620689655172413, 0.8275862068965517, 0.9310344827586207, 0.7931034482758621, 0.7586206896551724, 0.896551724137931, 0.7931034482758621, 0.7586206896551724, 0.8620689655172413, 0.896551724137931, 0.8275862068965517, 0.896551724137931, 0.6896551724137931, 0.8275862068965517, 0.7586206896551724, 0.8620689655172413, 0.7241379310344828, 0.8620689655172413, 0.896551724137931, 0.9310344827586207, 0.9310344827586207, 0.8620689655172413, 0.7241379310344828, 0.8275862068965517, 0.6896551724137931, 0.8620689655172413, 0.8275862068965517, 0.8620689655172413, 0.7931034482758621, 0.896551724137931, 0.8275862068965517, 0.8620689655172413, 0.8275862068965517, 0.8620689655172413, 0.896551724137931, 0.8620689655172413, 0.8620689655172413, 0.7931034482758621, 0.7931034482758621, 0.7931034482758621, 0.7241379310344828, 0.7586206896551724, 0.8620689655172413, 0.7931034482758621, 0.7931034482758621, 0.8620689655172413]\n"
     ]
    },
    {
     "data": {
      "image/png": "[encoded data removed]",
      "text/plain": [
       "<Figure size 432x288 with 1 Axes>"
      ]
     },
     "metadata": {},
     "output_type": "display_data"
    }
   ],
   "source": [
    "#Task 2. Predict the ship type with the speed, destination, length, breadth and gross tonnage data using kNN classifier with k=3.\n",
    "#Find an estimation for the classification accuracy using random training and test sets. \n",
    "\n",
    "# Importing necessary module\n",
    "from sklearn.neighbors import KNeighborsClassifier\n",
    "from sklearn.utils import shuffle\n",
    "from sklearn.metrics import accuracy_score\n",
    "# Feature and the response variable\n",
    "y = df_encoded['Ship type'].values\n",
    "X = X\n",
    "\n",
    "\n",
    "# Divide the data randomly into training (70 %) and test sets (30 %). Should you use stratification? Why? \n",
    "\n",
    "#Importing necessary module\n",
    "from sklearn.model_selection import train_test_split\n",
    "\n",
    "\n",
    "# Split into training and test set\n",
    "\n",
    "#X_train, X_test, y_train, y_test = train_test_split(X, y, test_size = 0.3, random_state=42, stratify=y)\n",
    "#for i in X_train, X_test, y_train, y_test:\n",
    "    # Create a k-NN classifier with 3 neighbors: knn\n",
    "   # knn = KNeighborsClassifier(n_neighbors=3)\n",
    "    # Fit the classifier to the training data\n",
    "    #knn.fit(X_train, y_train)\n",
    "    #k_score=knn.score(X_test, y_test)\n",
    "    #print k_score\n",
    "    \n",
    "k_score=[]\n",
    "\n",
    "\n",
    "for i in range(1000):\n",
    "    X_train, X_test, y_train, y_test = train_test_split(X, y, test_size = 0.3, stratify=y)\n",
    "    knn = KNeighborsClassifier(n_neighbors=3)\n",
    "    \n",
    "    knn.fit(X_train, y_train)\n",
    "    y_pred = knn.predict(X_test)\n",
    "    score=accuracy_score(y_test, y_pred)\n",
    "    k_score.append(score)\n",
    "print k_score\n",
    "    \n",
    "\n",
    "%matplotlib inline\n",
    "import matplotlib.pyplot as plt\n",
    "plt.plot(k_score)\n",
    "plt.show()\n",
    "\n",
    "    "
   ]
  },
  {
   "cell_type": "code",
   "execution_count": null,
   "metadata": {},
   "outputs": [],
   "source": []
  },
  {
   "cell_type": "code",
   "execution_count": 49,
   "metadata": {},
   "outputs": [
    {
     "data": {
      "text/plain": [
       "0.8541666666666666"
      ]
     },
     "execution_count": 49,
     "metadata": {},
     "output_type": "execute_result"
    }
   ],
   "source": [
    "# Task 3: Predict the ship type with the speed, destination, length, breadth and gross tonnage data \n",
    "# using kNN classifier with k=3. Find an estimation of the classification accuracy using leave-one-out. \n",
    " \n",
    "#Importing necessary module\n",
    "from sklearn.model_selection import LeaveOneOut\n",
    "\n",
    "loo = LeaveOneOut()\n",
    "\n",
    "score=[]\n",
    "\n",
    "for train, test in loo.split(X):\n",
    "    X_train, X_test = X[train], X[test]\n",
    "    y_train, y_test = y[train], y[test]\n",
    "    knn = KNeighborsClassifier(n_neighbors=3)\n",
    "    knn.fit(X_train,y_train)\n",
    "    y_pred=knn.predict(X_test)\n",
    "    scores=accuracy_score(y_test, y_pred)\n",
    "    #knn.fit(X,y)\n",
    "    #y_pred=knn.predict(X)\n",
    "    #scores=accuracy_score(y,y_pred)\n",
    "    score.append(scores)\n",
    "np.mean(score)\n",
    "\n"
   ]
  },
  {
   "cell_type": "code",
   "execution_count": 55,
   "metadata": {},
   "outputs": [
    {
     "data": {
      "image/png": "[encoded data removed]",
      "text/plain": [
       "<Figure size 432x288 with 1 Axes>"
      ]
     },
     "metadata": {},
     "output_type": "display_data"
    }
   ],
   "source": [
    "# Find the optimal value for k\n",
    "accuracy=[]\n",
    "\n",
    "for i in range(1,20):\n",
    "    score=[]\n",
    "    for train, test in loo.split(X):\n",
    "        X_train, X_test = X[train], X[test]\n",
    "        y_train, y_test = y[train], y[test]\n",
    "        knn = KNeighborsClassifier(n_neighbors=i)\n",
    "        knn.fit(X_train,y_train)\n",
    "        y_pred=knn.predict(X_test)\n",
    "        scores=accuracy_score(y_test, y_pred)\n",
    "        score.append(scores)\n",
    "    accuracy.append(np.mean(score))\n",
    "plt.plot(accuracy, 'o')\n",
    "plt.show()\n"
   ]
  },
  {
   "cell_type": "markdown",
   "metadata": {},
   "source": [
    "# The optimal value of k is: 3\n",
    "Classifiaction accuracy: approx 85%\n",
    "\n",
    "Comparing Task 2 and 3: We have got better result in task 3 because the data was sorted by leave one out meaning that each data was used as testing data and the remaining ones were used as training. Also, in task 2, we used randomly selected training and test sets which results in poor accuracy.\n"
   ]
  },
  {
   "cell_type": "code",
   "execution_count": null,
   "metadata": {},
   "outputs": [],
   "source": [
    "%matplotlib inline\n",
    "import matplotlib.pyplot as plt\n",
    "plt.plot(accuracy)\n",
    "plt.show()"
   ]
  },
  {
   "cell_type": "code",
   "execution_count": 60,
   "metadata": {},
   "outputs": [
    {
     "data": {
      "image/png": "[encoded data removed]",
      "text/plain": [
       "<Figure size 432x288 with 1 Axes>"
      ]
     },
     "metadata": {},
     "output_type": "display_data"
    }
   ],
   "source": [
    "#Task 4: Predict the ship type with the speed, destination, length and gross tonnage data using kNN classifier with k=1..20.\n",
    "#Use all ships in the preprocessed data for training. Use the same training data also to test the classifier. \n",
    "#Find an estimation for the classification accuracy. Plot the classification accuracy with different k values \n",
    "#acquired with leave-one-out and using training data in the same figure. Comment your result. \n",
    "#Why shouldn’t you test with your training data?\n",
    "\n",
    "# Feature and the response variable\n",
    "y = df_encoded['Ship type'].values\n",
    "X=X\n",
    "\n",
    "accu=[]\n",
    "\n",
    "for i in range(1,20):\n",
    "    knn = KNeighborsClassifier(n_neighbors=i)\n",
    "    knn.fit(X,y)\n",
    "    y_pred = knn.predict(X)\n",
    "    w=accuracy_score(y, y_pred)\n",
    "    accu.append(w)\n",
    "        \n",
    "plt.plot(accuracy,marker='o', label= 'leave-one-out')\n",
    "plt.plot(accu,marker='x', label= 'test with train')\n",
    "plt.legend(loc='lower left')\n",
    "plt.show()\n",
    "\n"
   ]
  },
  {
   "cell_type": "markdown",
   "metadata": {},
   "source": [
    "# Comment:\n",
    "Training with testing data doesn't give the best result compared to leave one out. Testing with training data can be an example of overfitting.It is difficult to generalize the data with train-test sets. "
   ]
  },
  {
   "cell_type": "code",
   "execution_count": null,
   "metadata": {},
   "outputs": [],
   "source": []
  }
 ],
 "metadata": {
  "kernelspec": {
   "display_name": "Python 2",
   "language": "python",
   "name": "python2"
  },
  "language_info": {
   "codemirror_mode": {
    "name": "ipython",
    "version": 2
   },
   "file_extension": ".py",
   "mimetype": "text/x-python",
   "name": "python",
   "nbconvert_exporter": "python",
   "pygments_lexer": "ipython2",
   "version": "2.7.15"
  }
 },
 "nbformat": 4,
 "nbformat_minor": 2
}

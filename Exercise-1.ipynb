{
 "cells": [
  {
   "cell_type": "code",
   "execution_count": 2,
   "metadata": {},
   "outputs": [
    {
     "name": "stdout",
     "output_type": "stream",
     "text": [
      "     Column1   Column2   Column3   Column4\n",
      "0   1.440090  1.315797 -1.203512 -0.649751\n",
      "1   1.458460  1.120703 -2.085441  0.602395\n",
      "2  -0.206821  1.348920  1.879070  1.280614\n",
      "3  -0.925645  0.296470 -0.881304 -0.161541\n",
      "4  -0.057585  1.359283 -0.903774  0.171817\n",
      "5  -1.050013  1.423870  0.579186  0.594103\n",
      "6   0.435374 -1.114882 -0.587617  0.584199\n",
      "7  -1.381215  0.040591  0.517247  0.467503\n",
      "9  -0.854092 -0.303567 -1.385290 -1.870718\n",
      "10  0.508913 -1.212994 -0.222130  0.876708\n",
      "12 -1.184449 -0.776688  0.783074 -0.148356\n",
      "13  1.191522  0.030729 -0.121366  0.787100\n",
      "14  1.200276 -0.964385  0.469731 -1.332405\n",
      "15  1.445490 -1.492714 -0.704250  0.070045\n",
      "16 -0.393206  1.124195  1.949963  1.338086\n",
      "17 -1.239567 -1.445269  0.634815 -1.454177\n",
      "20 -0.796404  0.659371  0.360395  1.332467\n",
      "21  0.643021 -0.212411  0.402412 -1.153747\n",
      "22  0.774216 -0.363244  0.563642 -1.670830\n",
      "24 -1.008363 -0.833774 -0.044850  0.336490\n"
     ]
    }
   ],
   "source": [
    "#Task-2\n",
    "\n",
    "#1. Load the comma-separated data matrix (task_II_data.txt) and delete any rows containing nan-values in it using NumPy. \n",
    "\n",
    "import pandas as pd\n",
    "import numpy as np\n",
    "\n",
    "#Loading the comma-separated data matrix\n",
    "df = pd.read_csv(\"Task2Data.csv\")\n",
    "\n",
    "#Deleting rows containing nan-values\n",
    "import numpy \n",
    "df=(df[~np.isnan(df).any(axis=1)])\n",
    "print df"
   ]
  },
  {
   "cell_type": "code",
   "execution_count": 3,
   "metadata": {},
   "outputs": [
    {
     "name": "stdout",
     "output_type": "stream",
     "text": [
      "Column1    5.000012e-12\n",
      "Column2    1.000004e-11\n",
      "Column3    1.000000e-11\n",
      "Column4    9.999995e-12\n",
      "dtype: float64\n",
      "Column1    1.025978\n",
      "Column2    1.025978\n",
      "Column3    1.025978\n",
      "Column4    1.025978\n",
      "dtype: float64\n"
     ]
    }
   ],
   "source": [
    "#2. Calculate the mean and standard deviation of each column in the edited data matrix \n",
    "#(that is, the matrix without rows containing nan-values). \n",
    "\n",
    "#Calculating the mean\n",
    "print df.mean()\n",
    "\n",
    "#Calculating the standard deviation\n",
    "print df.std()"
   ]
  },
  {
   "cell_type": "code",
   "execution_count": 4,
   "metadata": {},
   "outputs": [
    {
     "name": "stdout",
     "output_type": "stream",
     "text": [
      "Column1    1.458460\n",
      "Column2    1.120703\n",
      "Column3   -2.085441\n",
      "Column4    0.602395\n",
      "Name: 1, dtype: float64\n"
     ]
    },
    {
     "data": {
      "text/plain": [
       "0.274028979625"
      ]
     },
     "execution_count": 4,
     "metadata": {},
     "output_type": "execute_result"
    }
   ],
   "source": [
    "#3. Select the 2nd row of the edited data matrix and print the mean value of this row. \n",
    "\n",
    "#Selecting the 2nd row of the edited data matrix\n",
    "df1=df.iloc[1]\n",
    "print df1\n",
    "\n",
    "#Mean value\n",
    "df1.mean()"
   ]
  },
  {
   "cell_type": "code",
   "execution_count": 5,
   "metadata": {},
   "outputs": [
    {
     "name": "stdout",
     "output_type": "stream",
     "text": [
      "Column1   -0.206821\n",
      "Column2    1.348920\n",
      "Column3    1.879070\n",
      "Column4    1.280614\n",
      "Name: 2, dtype: float64\n",
      "Column1    1.0\n",
      "Column2    1.0\n",
      "Column3    1.0\n",
      "Column4    1.0\n",
      "Name: 2, dtype: float64\n"
     ]
    }
   ],
   "source": [
    "#4. Set all values of the 3rd row of the edited data matrix into 1. Print the 3rd row before and after the edit.  \n",
    "\n",
    "print df.iloc[2]\n",
    "df.iloc[2]['Column1']=1\n",
    "df.iloc[2]['Column2']=1\n",
    "df.iloc[2]['Column3']=1\n",
    "df.iloc[2]['Column4']=1\n",
    "print df.iloc[2]"
   ]
  },
  {
   "cell_type": "code",
   "execution_count": 6,
   "metadata": {},
   "outputs": [
    {
     "data": {
      "text/html": [
       "<div>\n",
       "<style scoped>\n",
       "    .dataframe tbody tr th:only-of-type {\n",
       "        vertical-align: middle;\n",
       "    }\n",
       "\n",
       "    .dataframe tbody tr th {\n",
       "        vertical-align: top;\n",
       "    }\n",
       "\n",
       "    .dataframe thead th {\n",
       "        text-align: right;\n",
       "    }\n",
       "</style>\n",
       "<table border=\"1\" class=\"dataframe\">\n",
       "  <thead>\n",
       "    <tr style=\"text-align: right;\">\n",
       "      <th></th>\n",
       "      <th>Column1</th>\n",
       "      <th>Column2</th>\n",
       "      <th>Column3</th>\n",
       "      <th>Column4</th>\n",
       "    </tr>\n",
       "  </thead>\n",
       "  <tbody>\n",
       "    <tr>\n",
       "      <th>0</th>\n",
       "      <td>1.440090</td>\n",
       "      <td>1.315797</td>\n",
       "      <td>-1.203512</td>\n",
       "      <td>-0.649751</td>\n",
       "    </tr>\n",
       "    <tr>\n",
       "      <th>1</th>\n",
       "      <td>1.458460</td>\n",
       "      <td>1.120703</td>\n",
       "      <td>-2.085441</td>\n",
       "      <td>0.602395</td>\n",
       "    </tr>\n",
       "    <tr>\n",
       "      <th>2</th>\n",
       "      <td>1.000000</td>\n",
       "      <td>1.000000</td>\n",
       "      <td>1.000000</td>\n",
       "      <td>1.000000</td>\n",
       "    </tr>\n",
       "    <tr>\n",
       "      <th>4</th>\n",
       "      <td>-0.057585</td>\n",
       "      <td>1.359283</td>\n",
       "      <td>-0.903774</td>\n",
       "      <td>0.171817</td>\n",
       "    </tr>\n",
       "    <tr>\n",
       "      <th>5</th>\n",
       "      <td>-1.050013</td>\n",
       "      <td>1.423870</td>\n",
       "      <td>0.579186</td>\n",
       "      <td>0.594103</td>\n",
       "    </tr>\n",
       "    <tr>\n",
       "      <th>16</th>\n",
       "      <td>-0.393206</td>\n",
       "      <td>1.124195</td>\n",
       "      <td>1.949963</td>\n",
       "      <td>1.338086</td>\n",
       "    </tr>\n",
       "    <tr>\n",
       "      <th>20</th>\n",
       "      <td>-0.796404</td>\n",
       "      <td>0.659371</td>\n",
       "      <td>0.360395</td>\n",
       "      <td>1.332467</td>\n",
       "    </tr>\n",
       "  </tbody>\n",
       "</table>\n",
       "</div>"
      ],
      "text/plain": [
       "     Column1   Column2   Column3   Column4\n",
       "0   1.440090  1.315797 -1.203512 -0.649751\n",
       "1   1.458460  1.120703 -2.085441  0.602395\n",
       "2   1.000000  1.000000  1.000000  1.000000\n",
       "4  -0.057585  1.359283 -0.903774  0.171817\n",
       "5  -1.050013  1.423870  0.579186  0.594103\n",
       "16 -0.393206  1.124195  1.949963  1.338086\n",
       "20 -0.796404  0.659371  0.360395  1.332467"
      ]
     },
     "execution_count": 6,
     "metadata": {},
     "output_type": "execute_result"
    }
   ],
   "source": [
    "#5. Find all row indices of the edited data matrix, where the 2nd column has a value greater or equal to 0.5 \n",
    "#and print the corresponding rows of the edited data matrix.  \n",
    "\n",
    "df.loc[df['Column2'] >= 0.5]\n",
    " "
   ]
  },
  {
   "cell_type": "code",
   "execution_count": 7,
   "metadata": {},
   "outputs": [],
   "source": [
    "#Task-3\n",
    "\n",
    "#1. Load the comma-separated data matrix (task_III_data.txt) and calculate linear and\n",
    "#cubic interpolation functions using the loaded data (first column is the x-values,\n",
    "#second y-values). Use SciPy’s interp1d-function.\n",
    "\n",
    "# Loading the data matrix\n",
    "\n",
    "import pandas as pd\n",
    "from scipy.interpolate import interp1d\n",
    "import matplotlib.pyplot as plt\n",
    "import numpy as np\n",
    "\n",
    "\n",
    "df= pd.read_csv('Task3Data.csv')\n",
    "\n",
    "x= df['Column1']\n",
    "y= df['Column2']\n",
    "\n",
    "# Linear interpolation\n",
    "f = interp1d(x, y)\n",
    "\n",
    "#Cubic interpolation\n",
    "f2 = interp1d(x, y, kind='cubic')"
   ]
  },
  {
   "cell_type": "code",
   "execution_count": 8,
   "metadata": {},
   "outputs": [
    {
     "data": {
      "image/png": "[encoded data removed]",
      "text/plain": [
       "<Figure size 432x288 with 1 Axes>"
      ]
     },
     "metadata": {},
     "output_type": "display_data"
    }
   ],
   "source": [
    "#Plot the loaded data and both interpolated functions. For figure title, x- axis, y-axis and\n",
    "#legend, set the following labels (help can be found from the documentation ofinterp1d-function):\n",
    "                                             #title text: “Input data and interpolated functions”\n",
    "                                             #x-axis text: “Input value”\n",
    "                                             #y-axis text: “Function value”\n",
    "                                             #legend: “data”, “linear”, “cubic”\n",
    "\n",
    "                \n",
    "xnew = np.linspace(0, 40, num=41, endpoint=True)\n",
    "plt.plot(x, y, 'o', xnew, f(xnew), '-', xnew, f2(xnew), '--')\n",
    "plt.xlabel('Input value')\n",
    "plt.ylabel('Function value')\n",
    "plt.legend(['data', 'linear', 'cubic'], loc='best')\n",
    "plt.title('Input data and interpolated functions')\n",
    "\n",
    "plt.show()\n"
   ]
  },
  {
   "cell_type": "code",
   "execution_count": null,
   "metadata": {},
   "outputs": [],
   "source": []
  }
 ],
 "metadata": {
  "kernelspec": {
   "display_name": "Python 2",
   "language": "python",
   "name": "python2"
  },
  "language_info": {
   "codemirror_mode": {
    "name": "ipython",
    "version": 2
   },
   "file_extension": ".py",
   "mimetype": "text/x-python",
   "name": "python",
   "nbconvert_exporter": "python",
   "pygments_lexer": "ipython2",
   "version": "2.7.15"
  }
 },
 "nbformat": 4,
 "nbformat_minor": 2
}
